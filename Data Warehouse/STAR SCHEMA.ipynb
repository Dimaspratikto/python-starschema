{
 "cells": [
  {
   "cell_type": "code",
   "execution_count": 3,
   "metadata": {},
   "outputs": [
    {
     "name": "stdout",
     "output_type": "stream",
     "text": [
      "Collecting pymysql\n",
      "  Downloading PyMySQL-1.0.2-py3-none-any.whl (43 kB)\n",
      "Installing collected packages: pymysql\n",
      "Successfully installed pymysql-1.0.2\n",
      "Note: you may need to restart the kernel to use updated packages.\n"
     ]
    }
   ],
   "source": [
    "pip install pymysql"
   ]
  },
  {
   "cell_type": "code",
   "execution_count": 4,
   "metadata": {},
   "outputs": [],
   "source": [
    "import pymysql"
   ]
  },
  {
   "cell_type": "code",
   "execution_count": 7,
   "metadata": {},
   "outputs": [
    {
     "name": "stdout",
     "output_type": "stream",
     "text": [
      "((1, 'dimasolshop', 'bulak', 98),)\n"
     ]
    }
   ],
   "source": [
    "con = pymysql.connect(db=\"datawarehouse\", user=\"root\", passwd=\"\",host=\"localhost\",port=3306,autocommit=True)\n",
    "cur = con.cursor()\n",
    "cur.execute(\"SELECT * FROM toko\")\n",
    "data = cur.fetchall()\n",
    "\n",
    "print(data)"
   ]
  },
  {
   "cell_type": "code",
   "execution_count": 22,
   "metadata": {},
   "outputs": [
    {
     "ename": "SyntaxError",
     "evalue": "EOL while scanning string literal (<ipython-input-22-c253c9bfe825>, line 3)",
     "output_type": "error",
     "traceback": [
      "\u001b[1;36m  File \u001b[1;32m\"<ipython-input-22-c253c9bfe825>\"\u001b[1;36m, line \u001b[1;32m3\u001b[0m\n\u001b[1;33m    cur.execute(\"select item, negara, round(avg(harga), 2) as average_harga  from observasi\u001b[0m\n\u001b[1;37m                                                                                            ^\u001b[0m\n\u001b[1;31mSyntaxError\u001b[0m\u001b[1;31m:\u001b[0m EOL while scanning string literal\n"
     ]
    }
   ],
   "source": [
    "con = pymysql.connect(db=\"datawarehouse\", user=\"root\", passwd=\"\",host=\"localhost\",port=3306,autocommit=True)\n",
    "cur = con.cursor()\n",
    "cur.execute(\"select item, negara, round(avg(harga), 2) as average_harga  from observasi \n",
    " left join item using (id_item)\n",
    " left join lokasi using (id_lokasi)\n",
    "where \n",
    " item = 'Waffles'\n",
    "group by\n",
    " item, negara\n",
    "order by\n",
    " average_harga asc \" )\n",
    "data = cur.fetchall()\n",
    "\n",
    "print(data)"
   ]
  },
  {
   "cell_type": "code",
   "execution_count": 24,
   "metadata": {},
   "outputs": [
    {
     "name": "stdout",
     "output_type": "stream",
     "text": [
      "((1, 'celery', 'produce'), (2, 'cucumber', 'produce'), (3, 'litle drink', 'beverages'), (4, \"l'oven fresh\", 'booked goods'), (5, 'butter', 'dairy'), (6, 'cat litter', 'non foods'), (7, 'tissues', 'non foods'), (8, 'snack crackers', 'snack'), (9, 'belmont chocholate', 'snack'), (10, 'texas chesee', 'frozen'))\n"
     ]
    }
   ],
   "source": [
    "con = pymysql.connect(db=\"datawarehouse\", user=\"root\", passwd=\"\",host=\"localhost\",port=3306,autocommit=True)\n",
    "cur = con.cursor()\n",
    "cur.execute(\"SELECT * FROM item\")\n",
    "data = cur.fetchall()\n",
    "\n",
    "print(data)"
   ]
  },
  {
   "cell_type": "code",
   "execution_count": 25,
   "metadata": {},
   "outputs": [
    {
     "name": "stdout",
     "output_type": "stream",
     "text": [
      "((1, 'bangkok', 'krung thep mahanal', 'thailand'), (2, 'venlo', 'limburg', 'netherlands'), (3, 'paris', 'ile-de-france', 'france'), (4, 'victoria falls', 'matabeland norti', 'zimbawe'), (5, 'finlayson', 'minnesota', 'unite states'), (6, 'hechi', 'guangxi', 'china'), (7, 'venlo', 'limburg', 'netherlands'), (8, 'seven rives', 'westmoreland', 'jamaica'), (9, 'london', 'ontario', 'canada'), (10, 'santiago', 'santiago', 'domician republic'))\n"
     ]
    }
   ],
   "source": [
    "con = pymysql.connect(db=\"datawarehouse\", user=\"root\", passwd=\"\",host=\"localhost\",port=3306,autocommit=True)\n",
    "cur = con.cursor()\n",
    "cur.execute(\"SELECT * FROM lokasi\")\n",
    "data = cur.fetchall()\n",
    "\n",
    "print(data)"
   ]
  },
  {
   "cell_type": "code",
   "execution_count": 26,
   "metadata": {},
   "outputs": [
    {
     "name": "stdout",
     "output_type": "stream",
     "text": [
      "((1, 1, 1, 0.79), (2, 2, 2, 0.69), (3, 3, 3, 0.59), (4, 4, 4, 3.09), (5, 5, 5, 0.69), (6, 6, 6, 0.28), (7, 7, 7, 0.49), (8, 8, 8, 0.89), (9, 9, 9, 2.29), (10, 10, 10, 0.63))\n"
     ]
    }
   ],
   "source": [
    "con = pymysql.connect(db=\"datawarehouse\", user=\"root\", passwd=\"\",host=\"localhost\",port=3306,autocommit=True)\n",
    "cur = con.cursor()\n",
    "cur.execute(\"SELECT * FROM observasi\")\n",
    "data = cur.fetchall()\n",
    "\n",
    "print(data)"
   ]
  },
  {
   "cell_type": "code",
   "execution_count": 35,
   "metadata": {},
   "outputs": [
    {
     "name": "stdout",
     "output_type": "stream",
     "text": [
      "()\n"
     ]
    }
   ],
   "source": [
    "con = pymysql.connect(db=\"datawarehouse\", user=\"root\", passwd=\"\",host=\"localhost\",port=3306,autocommit=True)\n",
    "cur = con.cursor()\n",
    "cur.execute ('''select item, negara, round(avg(harga), 2) as average_harga  from observasi \n",
    " left join item using (id_item)\n",
    " left join lokasi using (id_lokasi)\n",
    "where \n",
    " item = 'Waffles'\n",
    "group by\n",
    " item, negara\n",
    "order by\n",
    " average_harga asc \n",
    " '''\n",
    ")\n",
    "\n",
    "data = cur.fetchall()\n",
    "\n",
    "print(data)"
   ]
  },
  {
   "cell_type": "code",
   "execution_count": null,
   "metadata": {},
   "outputs": [],
   "source": []
  }
 ],
 "metadata": {
  "kernelspec": {
   "display_name": "Python 3",
   "language": "python",
   "name": "python3"
  },
  "language_info": {
   "codemirror_mode": {
    "name": "ipython",
    "version": 3
   },
   "file_extension": ".py",
   "mimetype": "text/x-python",
   "name": "python",
   "nbconvert_exporter": "python",
   "pygments_lexer": "ipython3",
   "version": "3.8.5"
  }
 },
 "nbformat": 4,
 "nbformat_minor": 4
}
